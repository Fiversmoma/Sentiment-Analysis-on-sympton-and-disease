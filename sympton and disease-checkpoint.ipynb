{
 "cells": [
  {
   "cell_type": "markdown",
   "id": "5db57624",
   "metadata": {},
   "source": [
    "# Symptom and Disease Prediction Project\n",
    "\n",
    "This project aims to develop a machine learning model for predicting diseases based on symptoms using various Python libraries such as TensorFlow, Pandas, NumPy, Seaborn, Matplotlib, and scikit-learn."
   ]
  },
  {
   "cell_type": "code",
   "execution_count": null,
   "id": "52f42a21",
   "metadata": {},
   "outputs": [],
   "source": []
  },
  {
   "cell_type": "markdown",
   "id": "aed372e8",
   "metadata": {},
   "source": [
    "# TABLE OF CONTENT \n",
    "Data loading and exploring\n",
    "\n",
    "Data preprocessing\n",
    "\n",
    "Text vectorization (tokenization)\n",
    "\n",
    "Embedding\n",
    "\n",
    "Naive bayes\n",
    "\n",
    "Conv1D model\n",
    "\n",
    "Transfer learning (USE)"
   ]
  },
  {
   "cell_type": "markdown",
   "id": "8bc56517",
   "metadata": {},
   "source": [
    "## Introduction\n",
    "\n",
    "In this project, we build a predictive model that takes symptoms as input and predicts the most probable diseases associated with those symptoms. The project utilizes machine learning techniques and popular Python libraries to accomplish this task."
   ]
  },
  {
   "cell_type": "code",
   "execution_count": 61,
   "id": "a0ef1243",
   "metadata": {},
   "outputs": [],
   "source": [
    "import pandas as pd\n",
    "import numpy as np\n",
    "import seaborn as sns\n",
    "import matplotlib.pyplot as plt\n",
    "import warnings\n",
    "warnings.filterwarnings('ignore')"
   ]
  },
  {
   "cell_type": "code",
   "execution_count": 62,
   "id": "3449957a",
   "metadata": {},
   "outputs": [
    {
     "data": {
      "text/html": [
       "<div>\n",
       "<style scoped>\n",
       "    .dataframe tbody tr th:only-of-type {\n",
       "        vertical-align: middle;\n",
       "    }\n",
       "\n",
       "    .dataframe tbody tr th {\n",
       "        vertical-align: top;\n",
       "    }\n",
       "\n",
       "    .dataframe thead th {\n",
       "        text-align: right;\n",
       "    }\n",
       "</style>\n",
       "<table border=\"1\" class=\"dataframe\">\n",
       "  <thead>\n",
       "    <tr style=\"text-align: right;\">\n",
       "      <th></th>\n",
       "      <th>Unnamed: 0</th>\n",
       "      <th>label</th>\n",
       "      <th>text</th>\n",
       "    </tr>\n",
       "  </thead>\n",
       "  <tbody>\n",
       "    <tr>\n",
       "      <th>0</th>\n",
       "      <td>0</td>\n",
       "      <td>Psoriasis</td>\n",
       "      <td>I have been experiencing a skin rash on my arm...</td>\n",
       "    </tr>\n",
       "    <tr>\n",
       "      <th>1</th>\n",
       "      <td>1</td>\n",
       "      <td>Psoriasis</td>\n",
       "      <td>My skin has been peeling, especially on my kne...</td>\n",
       "    </tr>\n",
       "    <tr>\n",
       "      <th>2</th>\n",
       "      <td>2</td>\n",
       "      <td>Psoriasis</td>\n",
       "      <td>I have been experiencing joint pain in my fing...</td>\n",
       "    </tr>\n",
       "    <tr>\n",
       "      <th>3</th>\n",
       "      <td>3</td>\n",
       "      <td>Psoriasis</td>\n",
       "      <td>There is a silver like dusting on my skin, esp...</td>\n",
       "    </tr>\n",
       "    <tr>\n",
       "      <th>4</th>\n",
       "      <td>4</td>\n",
       "      <td>Psoriasis</td>\n",
       "      <td>My nails have small dents or pits in them, and...</td>\n",
       "    </tr>\n",
       "    <tr>\n",
       "      <th>...</th>\n",
       "      <td>...</td>\n",
       "      <td>...</td>\n",
       "      <td>...</td>\n",
       "    </tr>\n",
       "    <tr>\n",
       "      <th>1195</th>\n",
       "      <td>295</td>\n",
       "      <td>diabetes</td>\n",
       "      <td>I'm shaking and trembling all over. I've lost ...</td>\n",
       "    </tr>\n",
       "    <tr>\n",
       "      <th>1196</th>\n",
       "      <td>296</td>\n",
       "      <td>diabetes</td>\n",
       "      <td>Particularly in the crevices of my skin, I hav...</td>\n",
       "    </tr>\n",
       "    <tr>\n",
       "      <th>1197</th>\n",
       "      <td>297</td>\n",
       "      <td>diabetes</td>\n",
       "      <td>I regularly experience these intense urges and...</td>\n",
       "    </tr>\n",
       "    <tr>\n",
       "      <th>1198</th>\n",
       "      <td>298</td>\n",
       "      <td>diabetes</td>\n",
       "      <td>I have trouble breathing, especially outside. ...</td>\n",
       "    </tr>\n",
       "    <tr>\n",
       "      <th>1199</th>\n",
       "      <td>299</td>\n",
       "      <td>diabetes</td>\n",
       "      <td>I constantly sneeze and have a dry cough. My i...</td>\n",
       "    </tr>\n",
       "  </tbody>\n",
       "</table>\n",
       "<p>1200 rows × 3 columns</p>\n",
       "</div>"
      ],
      "text/plain": [
       "      Unnamed: 0      label                                               text\n",
       "0              0  Psoriasis  I have been experiencing a skin rash on my arm...\n",
       "1              1  Psoriasis  My skin has been peeling, especially on my kne...\n",
       "2              2  Psoriasis  I have been experiencing joint pain in my fing...\n",
       "3              3  Psoriasis  There is a silver like dusting on my skin, esp...\n",
       "4              4  Psoriasis  My nails have small dents or pits in them, and...\n",
       "...          ...        ...                                                ...\n",
       "1195         295   diabetes  I'm shaking and trembling all over. I've lost ...\n",
       "1196         296   diabetes  Particularly in the crevices of my skin, I hav...\n",
       "1197         297   diabetes  I regularly experience these intense urges and...\n",
       "1198         298   diabetes  I have trouble breathing, especially outside. ...\n",
       "1199         299   diabetes  I constantly sneeze and have a dry cough. My i...\n",
       "\n",
       "[1200 rows x 3 columns]"
      ]
     },
     "execution_count": 62,
     "metadata": {},
     "output_type": "execute_result"
    }
   ],
   "source": [
    "data = pd.read_csv('Symptom & Disease.csv')\n",
    "data"
   ]
  },
  {
   "cell_type": "code",
   "execution_count": 63,
   "id": "f2289503",
   "metadata": {},
   "outputs": [
    {
     "data": {
      "text/plain": [
       "array(['Psoriasis', 'Varicose Veins', 'Typhoid', 'Chicken pox',\n",
       "       'Impetigo', 'Dengue', 'Fungal infection', 'Common Cold',\n",
       "       'Pneumonia', 'Dimorphic Hemorrhoids', 'Arthritis', 'Acne',\n",
       "       'Bronchial Asthma', 'Hypertension', 'Migraine',\n",
       "       'Cervical spondylosis', 'Jaundice', 'Malaria',\n",
       "       'urinary tract infection', 'allergy',\n",
       "       'gastroesophageal reflux disease', 'drug reaction',\n",
       "       'peptic ulcer disease', 'diabetes'], dtype=object)"
      ]
     },
     "execution_count": 63,
     "metadata": {},
     "output_type": "execute_result"
    }
   ],
   "source": [
    "data['label'].unique()"
   ]
  },
  {
   "cell_type": "code",
   "execution_count": 64,
   "id": "d6643968",
   "metadata": {},
   "outputs": [
    {
     "data": {
      "text/plain": [
       "Psoriasis                          50\n",
       "Varicose Veins                     50\n",
       "peptic ulcer disease               50\n",
       "drug reaction                      50\n",
       "gastroesophageal reflux disease    50\n",
       "allergy                            50\n",
       "urinary tract infection            50\n",
       "Malaria                            50\n",
       "Jaundice                           50\n",
       "Cervical spondylosis               50\n",
       "Migraine                           50\n",
       "Hypertension                       50\n",
       "Bronchial Asthma                   50\n",
       "Acne                               50\n",
       "Arthritis                          50\n",
       "Dimorphic Hemorrhoids              50\n",
       "Pneumonia                          50\n",
       "Common Cold                        50\n",
       "Fungal infection                   50\n",
       "Dengue                             50\n",
       "Impetigo                           50\n",
       "Chicken pox                        50\n",
       "Typhoid                            50\n",
       "diabetes                           50\n",
       "Name: label, dtype: int64"
      ]
     },
     "execution_count": 64,
     "metadata": {},
     "output_type": "execute_result"
    }
   ],
   "source": [
    "data['label'].value_counts()"
   ]
  },
  {
   "cell_type": "code",
   "execution_count": 65,
   "id": "955cce2b",
   "metadata": {},
   "outputs": [
    {
     "data": {
      "text/plain": [
       "24"
      ]
     },
     "execution_count": 65,
     "metadata": {},
     "output_type": "execute_result"
    }
   ],
   "source": [
    "num_of_classes = data['label'].nunique()\n",
    "num_of_classes"
   ]
  },
  {
   "cell_type": "code",
   "execution_count": 66,
   "id": "2c37ae3a",
   "metadata": {},
   "outputs": [
    {
     "data": {
      "text/plain": [
       "'I have been experiencing a skin rash on my arms, legs, and torso for the past few weeks. It is red, itchy, and covered in dry, scaly patches.'"
      ]
     },
     "execution_count": 66,
     "metadata": {},
     "output_type": "execute_result"
    }
   ],
   "source": [
    "data['text'][0]"
   ]
  },
  {
   "cell_type": "code",
   "execution_count": 67,
   "id": "86ac419b",
   "metadata": {},
   "outputs": [
    {
     "data": {
      "text/plain": [
       "'I have been experiencing joint pain in my fingers, wrists, and knees. The pain is often achy and throbbing, and it gets worse when I move my joints.'"
      ]
     },
     "execution_count": 67,
     "metadata": {},
     "output_type": "execute_result"
    }
   ],
   "source": [
    "data['text'][2]"
   ]
  },
  {
   "cell_type": "code",
   "execution_count": 68,
   "id": "d37ce795",
   "metadata": {},
   "outputs": [
    {
     "data": {
      "image/png": "[encoded data removed]",
      "text/plain": [
       "<Figure size 640x480 with 1 Axes>"
      ]
     },
     "metadata": {},
     "output_type": "display_data"
    }
   ],
   "source": [
    "text_length = data['text'].apply(lambda x: len(x.split(' ')))\n",
    "sns.histplot(text_length)\n",
    "plt.xlabel('Length of Text')\n",
    "plt.show()"
   ]
  },
  {
   "cell_type": "markdown",
   "id": "c9b360b7",
   "metadata": {},
   "source": [
    "## Data preprocessing"
   ]
  },
  {
   "cell_type": "code",
   "execution_count": 69,
   "id": "c05e7f2a",
   "metadata": {},
   "outputs": [
    {
     "name": "stdout",
     "output_type": "stream",
     "text": [
      "(1200,)\n",
      "(1200,)\n"
     ]
    }
   ],
   "source": [
    "X = np.array(data['text'])\n",
    "y = np.array(data['label'])\n",
    "\n",
    "print(X.shape)\n",
    "print(y.shape)"
   ]
  },
  {
   "cell_type": "code",
   "execution_count": 70,
   "id": "688bfb11",
   "metadata": {},
   "outputs": [],
   "source": [
    "from sklearn.model_selection import train_test_split\n",
    "\n",
    "train_sentences, test_sentences, train_label, test_label = train_test_split(X, y, \n",
    "                                                                             test_size=0.1, \n",
    "                                                                             random_state=42)\n"
   ]
  },
  {
   "cell_type": "code",
   "execution_count": 71,
   "id": "83b5a98b",
   "metadata": {},
   "outputs": [
    {
     "data": {
      "text/plain": [
       "array([\"I've been experiencing muscular weakness and stiffness in my neck recently. My joints have enlarged, making it difficult for me to move. Walking has also been difficult.\",\n",
       "       'I have been getting blood in my pee. Sometimes I get nauseous while peeing. This often almost coincides with me having a high temperature',\n",
       "       \"I have a persistent sour taste in my mouth, even when I haven't eaten anything acidic. I get frequent hiccups and a feeling of lump in my throat.\",\n",
       "       \"My monthly cycle has changed, and I've had an unexpected vaginal discharge. I frequently experience mood swings and experience occasional agitation.\",\n",
       "       \"My fever is really high, and I'm having trouble catching my breath. I'm sweating a lot, feeling cold and tired, and my heart is beating really fast. I also have some brownish phlegm coming up.\"],\n",
       "      dtype=object)"
      ]
     },
     "execution_count": 71,
     "metadata": {},
     "output_type": "execute_result"
    }
   ],
   "source": [
    "train_sentences[:5]"
   ]
  },
  {
   "cell_type": "code",
   "execution_count": 72,
   "id": "b3d1dd99",
   "metadata": {},
   "outputs": [
    {
     "data": {
      "text/plain": [
       "array(['Arthritis', 'urinary tract infection',\n",
       "       'gastroesophageal reflux disease', 'drug reaction', 'Pneumonia'],\n",
       "      dtype=object)"
      ]
     },
     "execution_count": 72,
     "metadata": {},
     "output_type": "execute_result"
    }
   ],
   "source": [
    "train_label[:5]"
   ]
  },
  {
   "cell_type": "code",
   "execution_count": 73,
   "id": "4ba5223a",
   "metadata": {},
   "outputs": [],
   "source": [
    "from sklearn.preprocessing import LabelEncoder\n",
    "label_encoder = LabelEncoder()\n",
    "train_labels_encoded = label_encoder.fit_transform(train_label)\n",
    "test_labels_encoded = label_encoder.fit_transform(test_label)"
   ]
  },
  {
   "cell_type": "code",
   "execution_count": 74,
   "id": "52a34e92",
   "metadata": {},
   "outputs": [
    {
     "data": {
      "text/plain": [
       "array([19, 12, 16, 14, 17])"
      ]
     },
     "execution_count": 74,
     "metadata": {},
     "output_type": "execute_result"
    }
   ],
   "source": [
    "test_labels_encoded[:5]"
   ]
  },
  {
   "cell_type": "code",
   "execution_count": 75,
   "id": "7e1148f3",
   "metadata": {},
   "outputs": [
    {
     "data": {
      "text/plain": [
       "((1080,), (1080,))"
      ]
     },
     "execution_count": 75,
     "metadata": {},
     "output_type": "execute_result"
    }
   ],
   "source": [
    "train_sentences.shape, train_labels_encoded.shape"
   ]
  },
  {
   "cell_type": "code",
   "execution_count": 76,
   "id": "e1a0b556",
   "metadata": {},
   "outputs": [
    {
     "data": {
      "text/plain": [
       "[27, 24, 28, 21, 35, 23, 47, 21, 27, 40]"
      ]
     },
     "execution_count": 76,
     "metadata": {},
     "output_type": "execute_result"
    }
   ],
   "source": [
    "sent_lens = [len(sentence.split()) for sentence in train_sentences]\n",
    "sent_lens[:10]"
   ]
  },
  {
   "cell_type": "code",
   "execution_count": 77,
   "id": "b755cae2",
   "metadata": {},
   "outputs": [
    {
     "data": {
      "text/plain": [
       "30.677777777777777"
      ]
     },
     "execution_count": 77,
     "metadata": {},
     "output_type": "execute_result"
    }
   ],
   "source": [
    "avg_len = np.mean(sent_lens)\n",
    "avg_len"
   ]
  },
  {
   "cell_type": "code",
   "execution_count": 78,
   "id": "5c0b92b2",
   "metadata": {},
   "outputs": [
    {
     "data": {
      "text/plain": [
       "(12, 55)"
      ]
     },
     "execution_count": 78,
     "metadata": {},
     "output_type": "execute_result"
    }
   ],
   "source": [
    "min(sent_lens), max(sent_lens)"
   ]
  },
  {
   "cell_type": "code",
   "execution_count": 79,
   "id": "c200980c",
   "metadata": {},
   "outputs": [
    {
     "data": {
      "text/plain": [
       "43.0"
      ]
     },
     "execution_count": 79,
     "metadata": {},
     "output_type": "execute_result"
    }
   ],
   "source": [
    "out_len_seq = np.percentile(sent_lens, 95)\n",
    "out_len_seq"
   ]
  },
  {
   "cell_type": "markdown",
   "id": "7022cf24",
   "metadata": {},
   "source": [
    "## Text vectorization (tokenization)"
   ]
  },
  {
   "cell_type": "markdown",
   "id": "6dfca054",
   "metadata": {},
   "source": [
    "Breaking down the text into individual words or tokens.\n",
    "\n",
    "Removing unnecessary characters, punctuation, and stopwords (common words like \"and,\" \"the,\" \"is,\" etc. that do not carry significant meaning).\n",
    "\n",
    "Assigning numerical values to each token. There are various methods for this, such as one-hot encoding, count vectorization, TF-IDF (Term Frequency-Inverse Document Frequency), or word embeddings (such as Word2Vec or GloVe), which capture semantic meaning.\n",
    "\n",
    "Normalizing the vectors to ensure they have similar ranges and do not dominate the model's training process.\n",
    "\n",
    "Creating a matrix representation of the vectors, where each row corresponds to a document or text sample, and each column represents a unique feature or token."
   ]
  },
  {
   "cell_type": "code",
   "execution_count": 80,
   "id": "d218170f",
   "metadata": {},
   "outputs": [],
   "source": [
    "from tensorflow.keras.layers.experimental.preprocessing import TextVectorization"
   ]
  },
  {
   "cell_type": "code",
   "execution_count": 81,
   "id": "1bc8444f",
   "metadata": {},
   "outputs": [],
   "source": [
    "text_vectorizer = TextVectorization(\n",
    "    max_tokens=None,\n",
    "    standardize='lower_and_strip_punctuation',\n",
    "    split='whitespace',\n",
    "    ngrams=None,\n",
    "    output_mode='int',\n",
    "    output_sequence_length=None)"
   ]
  },
  {
   "cell_type": "code",
   "execution_count": 82,
   "id": "275949e9",
   "metadata": {},
   "outputs": [],
   "source": [
    "max_vocab_length = 10000\n",
    "max_length = 45\n",
    "text_vectorizer = TextVectorization(\n",
    "    max_tokens=max_vocab_length,\n",
    "    output_mode='int',\n",
    "    output_sequence_length=max_length)"
   ]
  },
  {
   "cell_type": "markdown",
   "id": "dd7d6cba",
   "metadata": {},
   "source": [
    "The text_vectorizer object can be used to preprocess and vectorize the text data in the subsequent steps of machine learning pipeline."
   ]
  },
  {
   "cell_type": "code",
   "execution_count": 83,
   "id": "023c1590",
   "metadata": {},
   "outputs": [],
   "source": [
    "text_vectorizer.adapt(train_sentences)"
   ]
  },
  {
   "cell_type": "code",
   "execution_count": 84,
   "id": "4c821552",
   "metadata": {},
   "outputs": [
    {
     "name": "stdout",
     "output_type": "stream",
     "text": [
      "I'm having a lot of trouble with my bowel movements lately. It's hard to go and it hurts when I do. My anus is really sore and it's been bleeding when I go. It's really painful and I'm really uncomfortable.\n",
      "tf.Tensor(\n",
      "[[ 23  33   5  17  10  77  24   3 236 406 132  41 123   9  75   2  22  46\n",
      "   39   4 113   3 104  12  18 125   2  41   6 339  39   4  75  41  18  60\n",
      "    2  23  18  68   0   0   0   0   0]], shape=(1, 45), dtype=int64)\n"
     ]
    }
   ],
   "source": [
    "import random\n",
    "random_sentence = random.choice(train_sentences)\n",
    "print(random_sentence)\n",
    "print(text_vectorizer([random_sentence]))"
   ]
  },
  {
   "cell_type": "markdown",
   "id": "21da0d92",
   "metadata": {},
   "source": [
    "# Embedding"
   ]
  },
  {
   "cell_type": "markdown",
   "id": "d74b8923",
   "metadata": {},
   "source": [
    "Embedding is used to improve performance on tasks such as text classification, sentiment analysis, machine translation, and named entity recognition. The word embeddings provide a dense and continuous representation of words, enabling the models to leverage the semantic relationships between words for better understanding and generalization."
   ]
  },
  {
   "cell_type": "code",
   "execution_count": 85,
   "id": "741cddaf",
   "metadata": {},
   "outputs": [
    {
     "data": {
      "text/plain": [
       "<keras.layers.core.embedding.Embedding at 0x24e4f04fac0>"
      ]
     },
     "execution_count": 85,
     "metadata": {},
     "output_type": "execute_result"
    }
   ],
   "source": [
    "from tensorflow.keras import layers\n",
    "embedding = layers.Embedding(input_dim=max_vocab_length, \n",
    "                             output_dim=128, \n",
    "                             input_length=max_length,\n",
    "                             embeddings_initializer='uniform')\n",
    "embedding"
   ]
  },
  {
   "cell_type": "code",
   "execution_count": 86,
   "id": "bd2669ac",
   "metadata": {},
   "outputs": [
    {
     "name": "stdout",
     "output_type": "stream",
     "text": [
      "tf.Tensor(\n",
      "[[[-0.00238377 -0.00274056  0.00427029 ... -0.01252372 -0.04502002\n",
      "    0.03404686]\n",
      "  [ 0.02136853 -0.0143672  -0.02119702 ...  0.02896854  0.02169556\n",
      "    0.00963604]\n",
      "  [-0.04931315 -0.01944212 -0.04350328 ...  0.00479565 -0.03083564\n",
      "    0.02789309]\n",
      "  ...\n",
      "  [-0.01201159  0.03672897  0.01284346 ...  0.03914169 -0.00506444\n",
      "    0.04764872]\n",
      "  [-0.01201159  0.03672897  0.01284346 ...  0.03914169 -0.00506444\n",
      "    0.04764872]\n",
      "  [-0.01201159  0.03672897  0.01284346 ...  0.03914169 -0.00506444\n",
      "    0.04764872]]], shape=(1, 45, 128), dtype=float32)\n"
     ]
    }
   ],
   "source": [
    "print(embedding(text_vectorizer([random_sentence])))"
   ]
  },
  {
   "cell_type": "markdown",
   "id": "cd06be4f",
   "metadata": {},
   "source": [
    "# Naive Bayes"
   ]
  },
  {
   "cell_type": "code",
   "execution_count": 87,
   "id": "229b1d11",
   "metadata": {},
   "outputs": [],
   "source": [
    "from sklearn.feature_extraction.text import TfidfVectorizer\n",
    "from sklearn.naive_bayes import MultinomialNB\n",
    "from sklearn.pipeline import Pipeline"
   ]
  },
  {
   "cell_type": "code",
   "execution_count": 88,
   "id": "b1599520",
   "metadata": {},
   "outputs": [
    {
     "data": {
      "text/html": [
       "<style>#sk-container-id-2 {color: black;background-color: white;}#sk-container-id-2 pre{padding: 0;}#sk-container-id-2 div.sk-toggleable {background-color: white;}#sk-container-id-2 label.sk-toggleable__label {cursor: pointer;display: block;width: 100%;margin-bottom: 0;padding: 0.3em;box-sizing: border-box;text-align: center;}#sk-container-id-2 label.sk-toggleable__label-arrow:before {content: \"▸\";float: left;margin-right: 0.25em;color: #696969;}#sk-container-id-2 label.sk-toggleable__label-arrow:hover:before {color: black;}#sk-container-id-2 div.sk-estimator:hover label.sk-toggleable__label-arrow:before {color: black;}#sk-container-id-2 div.sk-toggleable__content {max-height: 0;max-width: 0;overflow: hidden;text-align: left;background-color: #f0f8ff;}#sk-container-id-2 div.sk-toggleable__content pre {margin: 0.2em;color: black;border-radius: 0.25em;background-color: #f0f8ff;}#sk-container-id-2 input.sk-toggleable__control:checked~div.sk-toggleable__content {max-height: 200px;max-width: 100%;overflow: auto;}#sk-container-id-2 input.sk-toggleable__control:checked~label.sk-toggleable__label-arrow:before {content: \"▾\";}#sk-container-id-2 div.sk-estimator input.sk-toggleable__control:checked~label.sk-toggleable__label {background-color: #d4ebff;}#sk-container-id-2 div.sk-label input.sk-toggleable__control:checked~label.sk-toggleable__label {background-color: #d4ebff;}#sk-container-id-2 input.sk-hidden--visually {border: 0;clip: rect(1px 1px 1px 1px);clip: rect(1px, 1px, 1px, 1px);height: 1px;margin: -1px;overflow: hidden;padding: 0;position: absolute;width: 1px;}#sk-container-id-2 div.sk-estimator {font-family: monospace;background-color: #f0f8ff;border: 1px dotted black;border-radius: 0.25em;box-sizing: border-box;margin-bottom: 0.5em;}#sk-container-id-2 div.sk-estimator:hover {background-color: #d4ebff;}#sk-container-id-2 div.sk-parallel-item::after {content: \"\";width: 100%;border-bottom: 1px solid gray;flex-grow: 1;}#sk-container-id-2 div.sk-label:hover label.sk-toggleable__label {background-color: #d4ebff;}#sk-container-id-2 div.sk-serial::before {content: \"\";position: absolute;border-left: 1px solid gray;box-sizing: border-box;top: 0;bottom: 0;left: 50%;z-index: 0;}#sk-container-id-2 div.sk-serial {display: flex;flex-direction: column;align-items: center;background-color: white;padding-right: 0.2em;padding-left: 0.2em;position: relative;}#sk-container-id-2 div.sk-item {position: relative;z-index: 1;}#sk-container-id-2 div.sk-parallel {display: flex;align-items: stretch;justify-content: center;background-color: white;position: relative;}#sk-container-id-2 div.sk-item::before, #sk-container-id-2 div.sk-parallel-item::before {content: \"\";position: absolute;border-left: 1px solid gray;box-sizing: border-box;top: 0;bottom: 0;left: 50%;z-index: -1;}#sk-container-id-2 div.sk-parallel-item {display: flex;flex-direction: column;z-index: 1;position: relative;background-color: white;}#sk-container-id-2 div.sk-parallel-item:first-child::after {align-self: flex-end;width: 50%;}#sk-container-id-2 div.sk-parallel-item:last-child::after {align-self: flex-start;width: 50%;}#sk-container-id-2 div.sk-parallel-item:only-child::after {width: 0;}#sk-container-id-2 div.sk-dashed-wrapped {border: 1px dashed gray;margin: 0 0.4em 0.5em 0.4em;box-sizing: border-box;padding-bottom: 0.4em;background-color: white;}#sk-container-id-2 div.sk-label label {font-family: monospace;font-weight: bold;display: inline-block;line-height: 1.2em;}#sk-container-id-2 div.sk-label-container {text-align: center;}#sk-container-id-2 div.sk-container {/* jupyter's `normalize.less` sets `[hidden] { display: none; }` but bootstrap.min.css set `[hidden] { display: none !important; }` so we also need the `!important` here to be able to override the default hidden behavior on the sphinx rendered scikit-learn.org. See: https://github.com/scikit-learn/scikit-learn/issues/21755 */display: inline-block !important;position: relative;}#sk-container-id-2 div.sk-text-repr-fallback {display: none;}</style><div id=\"sk-container-id-2\" class=\"sk-top-container\"><div class=\"sk-text-repr-fallback\"><pre>Pipeline(steps=[(&#x27;tfidf&#x27;, TfidfVectorizer()), (&#x27;clf&#x27;, MultinomialNB())])</pre><b>In a Jupyter environment, please rerun this cell to show the HTML representation or trust the notebook. <br />On GitHub, the HTML representation is unable to render, please try loading this page with nbviewer.org.</b></div><div class=\"sk-container\" hidden><div class=\"sk-item sk-dashed-wrapped\"><div class=\"sk-label-container\"><div class=\"sk-label sk-toggleable\"><input class=\"sk-toggleable__control sk-hidden--visually\" id=\"sk-estimator-id-4\" type=\"checkbox\" ><label for=\"sk-estimator-id-4\" class=\"sk-toggleable__label sk-toggleable__label-arrow\">Pipeline</label><div class=\"sk-toggleable__content\"><pre>Pipeline(steps=[(&#x27;tfidf&#x27;, TfidfVectorizer()), (&#x27;clf&#x27;, MultinomialNB())])</pre></div></div></div><div class=\"sk-serial\"><div class=\"sk-item\"><div class=\"sk-estimator sk-toggleable\"><input class=\"sk-toggleable__control sk-hidden--visually\" id=\"sk-estimator-id-5\" type=\"checkbox\" ><label for=\"sk-estimator-id-5\" class=\"sk-toggleable__label sk-toggleable__label-arrow\">TfidfVectorizer</label><div class=\"sk-toggleable__content\"><pre>TfidfVectorizer()</pre></div></div></div><div class=\"sk-item\"><div class=\"sk-estimator sk-toggleable\"><input class=\"sk-toggleable__control sk-hidden--visually\" id=\"sk-estimator-id-6\" type=\"checkbox\" ><label for=\"sk-estimator-id-6\" class=\"sk-toggleable__label sk-toggleable__label-arrow\">MultinomialNB</label><div class=\"sk-toggleable__content\"><pre>MultinomialNB()</pre></div></div></div></div></div></div></div>"
      ],
      "text/plain": [
       "Pipeline(steps=[('tfidf', TfidfVectorizer()), ('clf', MultinomialNB())])"
      ]
     },
     "execution_count": 88,
     "metadata": {},
     "output_type": "execute_result"
    }
   ],
   "source": [
    "model_0 = Pipeline([(\"tfidf\", TfidfVectorizer()),\n",
    "        (\"clf\", MultinomialNB()),])\n",
    "\n",
    "model_0.fit(train_sentences, train_label)"
   ]
  },
  {
   "cell_type": "code",
   "execution_count": 89,
   "id": "4ddcbdb7",
   "metadata": {},
   "outputs": [
    {
     "name": "stdout",
     "output_type": "stream",
     "text": [
      "93.33333333333333\n"
     ]
    }
   ],
   "source": [
    "baseline_score = model_0.score(test_sentences, test_label)\n",
    "\n",
    "print(baseline_score*100)"
   ]
  },
  {
   "cell_type": "markdown",
   "id": "be17bda6",
   "metadata": {},
   "source": [
    "# CONVOLUTIONAL NEURAL NETWORK - CNN (Conv1D model)"
   ]
  },
  {
   "cell_type": "markdown",
   "id": "505f4c67",
   "metadata": {},
   "source": [
    "Conv1D applies a convolutional operation over the input sequence, extracting local patterns or features through a sliding window of fixed size. This operation involves a set of learnable filters or kernels that slide across the input sequence, performing element-wise multiplications and aggregating the results. The resulting feature maps capture important information at different levels of abstraction."
   ]
  },
  {
   "cell_type": "code",
   "execution_count": 90,
   "id": "be871c9d",
   "metadata": {},
   "outputs": [],
   "source": [
    "import tensorflow as tf\n",
    "from tensorflow.keras import layers\n",
    "\n",
    "# Create a TextVectorization layer\n",
    "text_vectorizer = layers.TextVectorization(max_tokens=1000, output_mode='int')\n",
    "text_vectorizer.adapt(train_sentences)\n",
    "\n",
    "# Define the vocabulary size and embedding dimension\n",
    "vocab_size = len(text_vectorizer.get_vocabulary())\n",
    "embedding_dim = 100  # Replace with your desired embedding dimension\n",
    "\n",
    "# Rest of the model definition\n",
    "inputs = layers.Input(shape=(1,), dtype=tf.string)\n",
    "x = text_vectorizer(inputs)\n",
    "x = layers.Embedding(input_dim=vocab_size, output_dim=embedding_dim)(x)\n",
    "x = layers.GlobalAveragePooling1D()(x)\n",
    "outputs = layers.Dense(num_of_classes, activation=\"sigmoid\")(x)\n",
    "\n",
    "model_1 = tf.keras.Model(inputs, outputs, name=\"dense_model\")\n"
   ]
  },
  {
   "cell_type": "code",
   "execution_count": 91,
   "id": "7ce8374d",
   "metadata": {
    "scrolled": true
   },
   "outputs": [],
   "source": [
    "model_1.compile(loss=tf.keras.losses.CategoricalCrossentropy(),\n",
    "optimizer = tf.keras.optimizers.Adam(), metrics=[\"accuracy\"])"
   ]
  },
  {
   "cell_type": "code",
   "execution_count": 92,
   "id": "f99fa1e5",
   "metadata": {},
   "outputs": [
    {
     "data": {
      "text/plain": [
       "((1080,), (1080,))"
      ]
     },
     "execution_count": 92,
     "metadata": {},
     "output_type": "execute_result"
    }
   ],
   "source": [
    "train_sentences.shape, train_label.shape"
   ]
  },
  {
   "cell_type": "code",
   "execution_count": null,
   "id": "0a486c69",
   "metadata": {},
   "outputs": [],
   "source": []
  },
  {
   "cell_type": "code",
   "execution_count": 93,
   "id": "5102658c",
   "metadata": {
    "scrolled": true
   },
   "outputs": [
    {
     "data": {
      "text/plain": [
       "array([[0., 1., 0., 0., 0., 0., 0., 0., 0., 0., 0., 0., 0., 0., 0., 0.,\n",
       "        0., 0., 0., 0., 0., 0., 0., 0.],\n",
       "       [0., 0., 0., 0., 0., 0., 0., 0., 0., 0., 0., 0., 0., 0., 0., 0.,\n",
       "        0., 0., 0., 0., 0., 0., 0., 1.],\n",
       "       [0., 0., 0., 0., 0., 0., 0., 0., 0., 0., 0., 0., 0., 0., 0., 0.,\n",
       "        0., 0., 0., 0., 0., 1., 0., 0.],\n",
       "       [0., 0., 0., 0., 0., 0., 0., 0., 0., 0., 0., 0., 0., 0., 0., 0.,\n",
       "        0., 0., 0., 0., 1., 0., 0., 0.],\n",
       "       [0., 0., 0., 0., 0., 0., 0., 0., 0., 0., 0., 0., 0., 0., 1., 0.,\n",
       "        0., 0., 0., 0., 0., 0., 0., 0.]])"
      ]
     },
     "execution_count": 93,
     "metadata": {},
     "output_type": "execute_result"
    }
   ],
   "source": [
    "from sklearn.preprocessing import OneHotEncoder\n",
    "\n",
    "one_hot_encoder = OneHotEncoder(sparse=False)\n",
    "\n",
    "train_labels_one_hot = one_hot_encoder.fit_transform(train_label.reshape(-1, 1))\n",
    "\n",
    "test_labels_one_hot = one_hot_encoder.fit_transform(test_label.reshape(-1, 1))\n",
    "\n",
    "train_labels_one_hot[:5]\n"
   ]
  },
  {
   "cell_type": "code",
   "execution_count": 94,
   "id": "e4e3e2af",
   "metadata": {},
   "outputs": [
    {
     "data": {
      "text/plain": [
       "(120, 24)"
      ]
     },
     "execution_count": 94,
     "metadata": {},
     "output_type": "execute_result"
    }
   ],
   "source": [
    "test_labels_one_hot.shape"
   ]
  },
  {
   "cell_type": "code",
   "execution_count": null,
   "id": "578588a4",
   "metadata": {},
   "outputs": [],
   "source": []
  },
  {
   "cell_type": "code",
   "execution_count": 95,
   "id": "db0cdf6b",
   "metadata": {},
   "outputs": [
    {
     "data": {
      "text/plain": [
       "(numpy.ndarray, numpy.ndarray, numpy.ndarray)"
      ]
     },
     "execution_count": 95,
     "metadata": {},
     "output_type": "execute_result"
    }
   ],
   "source": [
    "type(train_sentences), type(np.array(train_sentences)), type(train_labels_one_hot)"
   ]
  },
  {
   "cell_type": "code",
   "execution_count": 96,
   "id": "24cf41f6",
   "metadata": {},
   "outputs": [
    {
     "data": {
      "text/plain": [
       "array([[0., 1., 0., 0., 0., 0., 0., 0., 0., 0., 0., 0., 0., 0., 0., 0.,\n",
       "        0., 0., 0., 0., 0., 0., 0., 0.],\n",
       "       [0., 0., 0., 0., 0., 0., 0., 0., 0., 0., 0., 0., 0., 0., 0., 0.,\n",
       "        0., 0., 0., 0., 0., 0., 0., 1.],\n",
       "       [0., 0., 0., 0., 0., 0., 0., 0., 0., 0., 0., 0., 0., 0., 0., 0.,\n",
       "        0., 0., 0., 0., 0., 1., 0., 0.],\n",
       "       [0., 0., 0., 0., 0., 0., 0., 0., 0., 0., 0., 0., 0., 0., 0., 0.,\n",
       "        0., 0., 0., 0., 1., 0., 0., 0.],\n",
       "       [0., 0., 0., 0., 0., 0., 0., 0., 0., 0., 0., 0., 0., 0., 1., 0.,\n",
       "        0., 0., 0., 0., 0., 0., 0., 0.]])"
      ]
     },
     "execution_count": 96,
     "metadata": {},
     "output_type": "execute_result"
    }
   ],
   "source": [
    "train_labels_one_hot[:5]"
   ]
  },
  {
   "cell_type": "code",
   "execution_count": 99,
   "id": "dda9f0f7",
   "metadata": {},
   "outputs": [
    {
     "name": "stdout",
     "output_type": "stream",
     "text": [
      "Epoch 1/100\n",
      "34/34 [==============================] - 0s 7ms/step - loss: 0.0106 - accuracy: 1.0000 - val_loss: 0.1000 - val_accuracy: 0.9917\n",
      "Epoch 2/100\n",
      "34/34 [==============================] - 0s 6ms/step - loss: 0.0098 - accuracy: 1.0000 - val_loss: 0.0987 - val_accuracy: 0.9917\n",
      "Epoch 3/100\n",
      "34/34 [==============================] - 0s 5ms/step - loss: 0.0102 - accuracy: 1.0000 - val_loss: 0.0979 - val_accuracy: 0.9917\n",
      "Epoch 4/100\n",
      "34/34 [==============================] - 0s 7ms/step - loss: 0.0095 - accuracy: 1.0000 - val_loss: 0.0969 - val_accuracy: 0.9917\n",
      "Epoch 5/100\n",
      "34/34 [==============================] - 0s 5ms/step - loss: 0.0088 - accuracy: 1.0000 - val_loss: 0.0956 - val_accuracy: 0.9917\n",
      "Epoch 6/100\n",
      "34/34 [==============================] - 0s 5ms/step - loss: 0.0084 - accuracy: 1.0000 - val_loss: 0.0943 - val_accuracy: 0.9917\n",
      "Epoch 7/100\n",
      "34/34 [==============================] - 0s 6ms/step - loss: 0.0080 - accuracy: 1.0000 - val_loss: 0.0934 - val_accuracy: 0.9917\n",
      "Epoch 8/100\n",
      "34/34 [==============================] - 0s 6ms/step - loss: 0.0081 - accuracy: 1.0000 - val_loss: 0.0926 - val_accuracy: 0.9917\n",
      "Epoch 9/100\n",
      "34/34 [==============================] - 0s 7ms/step - loss: 0.0080 - accuracy: 1.0000 - val_loss: 0.0921 - val_accuracy: 0.9917\n",
      "Epoch 10/100\n",
      "34/34 [==============================] - 0s 5ms/step - loss: 0.0082 - accuracy: 1.0000 - val_loss: 0.0914 - val_accuracy: 0.9917\n",
      "Epoch 11/100\n",
      "34/34 [==============================] - 0s 6ms/step - loss: 0.0077 - accuracy: 1.0000 - val_loss: 0.0905 - val_accuracy: 0.9917\n",
      "Epoch 12/100\n",
      "34/34 [==============================] - 0s 6ms/step - loss: 0.0076 - accuracy: 1.0000 - val_loss: 0.0898 - val_accuracy: 0.9917\n",
      "Epoch 13/100\n",
      "34/34 [==============================] - 0s 6ms/step - loss: 0.0073 - accuracy: 1.0000 - val_loss: 0.0894 - val_accuracy: 0.9917\n",
      "Epoch 14/100\n",
      "34/34 [==============================] - 0s 7ms/step - loss: 0.0072 - accuracy: 1.0000 - val_loss: 0.0888 - val_accuracy: 0.9917\n",
      "Epoch 15/100\n",
      "34/34 [==============================] - 0s 6ms/step - loss: 0.0073 - accuracy: 1.0000 - val_loss: 0.0876 - val_accuracy: 0.9917\n",
      "Epoch 16/100\n",
      "34/34 [==============================] - 0s 6ms/step - loss: 0.0067 - accuracy: 1.0000 - val_loss: 0.0870 - val_accuracy: 0.9917\n",
      "Epoch 17/100\n",
      "34/34 [==============================] - 0s 6ms/step - loss: 0.0064 - accuracy: 1.0000 - val_loss: 0.0864 - val_accuracy: 0.9917\n",
      "Epoch 18/100\n",
      "34/34 [==============================] - 0s 6ms/step - loss: 0.0065 - accuracy: 1.0000 - val_loss: 0.0854 - val_accuracy: 0.9917\n",
      "Epoch 19/100\n",
      "34/34 [==============================] - 0s 7ms/step - loss: 0.0059 - accuracy: 1.0000 - val_loss: 0.0850 - val_accuracy: 0.9917\n",
      "Epoch 20/100\n",
      "34/34 [==============================] - 0s 6ms/step - loss: 0.0062 - accuracy: 1.0000 - val_loss: 0.0841 - val_accuracy: 0.9917\n",
      "Epoch 21/100\n",
      "34/34 [==============================] - 0s 6ms/step - loss: 0.0057 - accuracy: 1.0000 - val_loss: 0.0836 - val_accuracy: 0.9917\n",
      "Epoch 22/100\n",
      "34/34 [==============================] - 0s 6ms/step - loss: 0.0057 - accuracy: 1.0000 - val_loss: 0.0830 - val_accuracy: 0.9917\n",
      "Epoch 23/100\n",
      "34/34 [==============================] - 0s 6ms/step - loss: 0.0052 - accuracy: 1.0000 - val_loss: 0.0822 - val_accuracy: 0.9917\n",
      "Epoch 24/100\n",
      "34/34 [==============================] - 0s 7ms/step - loss: 0.0055 - accuracy: 1.0000 - val_loss: 0.0818 - val_accuracy: 0.9917\n",
      "Epoch 25/100\n",
      "34/34 [==============================] - 0s 6ms/step - loss: 0.0050 - accuracy: 1.0000 - val_loss: 0.0815 - val_accuracy: 0.9917\n",
      "Epoch 26/100\n",
      "34/34 [==============================] - 0s 5ms/step - loss: 0.0050 - accuracy: 1.0000 - val_loss: 0.0809 - val_accuracy: 0.9917\n",
      "Epoch 27/100\n",
      "34/34 [==============================] - 0s 6ms/step - loss: 0.0050 - accuracy: 1.0000 - val_loss: 0.0805 - val_accuracy: 0.9917\n",
      "Epoch 28/100\n",
      "34/34 [==============================] - 0s 7ms/step - loss: 0.0050 - accuracy: 1.0000 - val_loss: 0.0793 - val_accuracy: 0.9917\n",
      "Epoch 29/100\n",
      "34/34 [==============================] - 0s 8ms/step - loss: 0.0050 - accuracy: 1.0000 - val_loss: 0.0792 - val_accuracy: 0.9917\n",
      "Epoch 30/100\n",
      "34/34 [==============================] - 0s 6ms/step - loss: 0.0051 - accuracy: 1.0000 - val_loss: 0.0782 - val_accuracy: 0.9917\n",
      "Epoch 31/100\n",
      "34/34 [==============================] - 0s 7ms/step - loss: 0.0042 - accuracy: 1.0000 - val_loss: 0.0777 - val_accuracy: 0.9917\n",
      "Epoch 32/100\n",
      "34/34 [==============================] - 0s 7ms/step - loss: 0.0044 - accuracy: 1.0000 - val_loss: 0.0768 - val_accuracy: 0.9917\n",
      "Epoch 33/100\n",
      "34/34 [==============================] - 0s 8ms/step - loss: 0.0044 - accuracy: 1.0000 - val_loss: 0.0764 - val_accuracy: 0.9917\n",
      "Epoch 34/100\n",
      "34/34 [==============================] - 0s 6ms/step - loss: 0.0043 - accuracy: 1.0000 - val_loss: 0.0759 - val_accuracy: 0.9917\n",
      "Epoch 35/100\n",
      "34/34 [==============================] - 0s 6ms/step - loss: 0.0041 - accuracy: 1.0000 - val_loss: 0.0754 - val_accuracy: 0.9917\n",
      "Epoch 36/100\n",
      "34/34 [==============================] - 0s 6ms/step - loss: 0.0041 - accuracy: 1.0000 - val_loss: 0.0745 - val_accuracy: 0.9917\n",
      "Epoch 37/100\n",
      "34/34 [==============================] - 0s 6ms/step - loss: 0.0041 - accuracy: 1.0000 - val_loss: 0.0741 - val_accuracy: 0.9917\n",
      "Epoch 38/100\n",
      "34/34 [==============================] - 0s 7ms/step - loss: 0.0039 - accuracy: 1.0000 - val_loss: 0.0734 - val_accuracy: 0.9917\n",
      "Epoch 39/100\n",
      "34/34 [==============================] - 0s 6ms/step - loss: 0.0039 - accuracy: 1.0000 - val_loss: 0.0729 - val_accuracy: 0.9917\n",
      "Epoch 40/100\n",
      "34/34 [==============================] - 0s 8ms/step - loss: 0.0038 - accuracy: 1.0000 - val_loss: 0.0726 - val_accuracy: 0.9917\n",
      "Epoch 41/100\n",
      "34/34 [==============================] - 0s 7ms/step - loss: 0.0038 - accuracy: 1.0000 - val_loss: 0.0719 - val_accuracy: 0.9917\n",
      "Epoch 42/100\n",
      "34/34 [==============================] - 0s 7ms/step - loss: 0.0036 - accuracy: 1.0000 - val_loss: 0.0716 - val_accuracy: 0.9917\n",
      "Epoch 43/100\n",
      "34/34 [==============================] - 0s 6ms/step - loss: 0.0036 - accuracy: 1.0000 - val_loss: 0.0711 - val_accuracy: 0.9917\n",
      "Epoch 44/100\n",
      "34/34 [==============================] - 0s 6ms/step - loss: 0.0035 - accuracy: 1.0000 - val_loss: 0.0706 - val_accuracy: 0.9917\n",
      "Epoch 45/100\n",
      "34/34 [==============================] - 0s 6ms/step - loss: 0.0035 - accuracy: 1.0000 - val_loss: 0.0701 - val_accuracy: 0.9917\n",
      "Epoch 46/100\n",
      "34/34 [==============================] - 0s 5ms/step - loss: 0.0032 - accuracy: 1.0000 - val_loss: 0.0693 - val_accuracy: 0.9917\n",
      "Epoch 47/100\n",
      "34/34 [==============================] - 0s 6ms/step - loss: 0.0029 - accuracy: 1.0000 - val_loss: 0.0690 - val_accuracy: 0.9917\n",
      "Epoch 48/100\n",
      "34/34 [==============================] - 0s 5ms/step - loss: 0.0033 - accuracy: 1.0000 - val_loss: 0.0683 - val_accuracy: 0.9917\n",
      "Epoch 49/100\n",
      "34/34 [==============================] - 0s 6ms/step - loss: 0.0029 - accuracy: 1.0000 - val_loss: 0.0680 - val_accuracy: 0.9917\n",
      "Epoch 50/100\n",
      "34/34 [==============================] - 0s 6ms/step - loss: 0.0029 - accuracy: 1.0000 - val_loss: 0.0672 - val_accuracy: 0.9917\n",
      "Epoch 51/100\n",
      "34/34 [==============================] - 0s 5ms/step - loss: 0.0031 - accuracy: 1.0000 - val_loss: 0.0669 - val_accuracy: 0.9917\n",
      "Epoch 52/100\n",
      "34/34 [==============================] - 0s 6ms/step - loss: 0.0030 - accuracy: 1.0000 - val_loss: 0.0664 - val_accuracy: 0.9917\n",
      "Epoch 53/100\n",
      "34/34 [==============================] - 0s 5ms/step - loss: 0.0025 - accuracy: 1.0000 - val_loss: 0.0661 - val_accuracy: 0.9917\n",
      "Epoch 54/100\n",
      "34/34 [==============================] - 0s 5ms/step - loss: 0.0027 - accuracy: 1.0000 - val_loss: 0.0658 - val_accuracy: 0.9917\n",
      "Epoch 55/100\n",
      "34/34 [==============================] - 0s 5ms/step - loss: 0.0024 - accuracy: 1.0000 - val_loss: 0.0656 - val_accuracy: 0.9917\n",
      "Epoch 56/100\n",
      "34/34 [==============================] - 0s 6ms/step - loss: 0.0026 - accuracy: 1.0000 - val_loss: 0.0651 - val_accuracy: 0.9917\n",
      "Epoch 57/100\n",
      "34/34 [==============================] - 0s 5ms/step - loss: 0.0025 - accuracy: 1.0000 - val_loss: 0.0645 - val_accuracy: 0.9917\n",
      "Epoch 58/100\n",
      "34/34 [==============================] - 0s 6ms/step - loss: 0.0025 - accuracy: 1.0000 - val_loss: 0.0641 - val_accuracy: 0.9917\n"
     ]
    },
    {
     "name": "stdout",
     "output_type": "stream",
     "text": [
      "Epoch 59/100\n",
      "34/34 [==============================] - 0s 5ms/step - loss: 0.0025 - accuracy: 1.0000 - val_loss: 0.0632 - val_accuracy: 0.9917\n",
      "Epoch 60/100\n",
      "34/34 [==============================] - 0s 5ms/step - loss: 0.0023 - accuracy: 1.0000 - val_loss: 0.0630 - val_accuracy: 0.9917\n",
      "Epoch 61/100\n",
      "34/34 [==============================] - 0s 5ms/step - loss: 0.0023 - accuracy: 1.0000 - val_loss: 0.0628 - val_accuracy: 0.9917\n",
      "Epoch 62/100\n",
      "34/34 [==============================] - 0s 6ms/step - loss: 0.0022 - accuracy: 1.0000 - val_loss: 0.0624 - val_accuracy: 0.9917\n",
      "Epoch 63/100\n",
      "34/34 [==============================] - 0s 6ms/step - loss: 0.0021 - accuracy: 1.0000 - val_loss: 0.0626 - val_accuracy: 0.9917\n",
      "Epoch 64/100\n",
      "34/34 [==============================] - 0s 5ms/step - loss: 0.0020 - accuracy: 1.0000 - val_loss: 0.0618 - val_accuracy: 0.9917\n",
      "Epoch 65/100\n",
      "34/34 [==============================] - 0s 6ms/step - loss: 0.0021 - accuracy: 1.0000 - val_loss: 0.0619 - val_accuracy: 0.9917\n",
      "Epoch 66/100\n",
      "34/34 [==============================] - 0s 7ms/step - loss: 0.0018 - accuracy: 1.0000 - val_loss: 0.0617 - val_accuracy: 0.9917\n",
      "Epoch 67/100\n",
      "34/34 [==============================] - 0s 6ms/step - loss: 0.0020 - accuracy: 1.0000 - val_loss: 0.0615 - val_accuracy: 0.9917\n",
      "Epoch 68/100\n",
      "34/34 [==============================] - 0s 7ms/step - loss: 0.0021 - accuracy: 1.0000 - val_loss: 0.0608 - val_accuracy: 0.9917\n",
      "Epoch 69/100\n",
      "34/34 [==============================] - 0s 5ms/step - loss: 0.0019 - accuracy: 1.0000 - val_loss: 0.0603 - val_accuracy: 0.9917\n",
      "Epoch 70/100\n",
      "34/34 [==============================] - 0s 6ms/step - loss: 0.0019 - accuracy: 1.0000 - val_loss: 0.0600 - val_accuracy: 0.9917\n",
      "Epoch 71/100\n",
      "34/34 [==============================] - 0s 6ms/step - loss: 0.0018 - accuracy: 1.0000 - val_loss: 0.0598 - val_accuracy: 0.9917\n",
      "Epoch 72/100\n",
      "34/34 [==============================] - 0s 6ms/step - loss: 0.0016 - accuracy: 1.0000 - val_loss: 0.0594 - val_accuracy: 0.9917\n",
      "Epoch 73/100\n",
      "34/34 [==============================] - 0s 7ms/step - loss: 0.0017 - accuracy: 1.0000 - val_loss: 0.0591 - val_accuracy: 0.9917\n",
      "Epoch 74/100\n",
      "34/34 [==============================] - 0s 5ms/step - loss: 0.0017 - accuracy: 1.0000 - val_loss: 0.0588 - val_accuracy: 0.9917\n",
      "Epoch 75/100\n",
      "34/34 [==============================] - 0s 5ms/step - loss: 0.0017 - accuracy: 1.0000 - val_loss: 0.0580 - val_accuracy: 0.9917\n",
      "Epoch 76/100\n",
      "34/34 [==============================] - 0s 5ms/step - loss: 0.0017 - accuracy: 1.0000 - val_loss: 0.0578 - val_accuracy: 0.9917\n",
      "Epoch 77/100\n",
      "34/34 [==============================] - 0s 6ms/step - loss: 0.0015 - accuracy: 1.0000 - val_loss: 0.0570 - val_accuracy: 0.9917\n",
      "Epoch 78/100\n",
      "34/34 [==============================] - 0s 6ms/step - loss: 0.0016 - accuracy: 1.0000 - val_loss: 0.0567 - val_accuracy: 0.9917\n",
      "Epoch 79/100\n",
      "34/34 [==============================] - 0s 6ms/step - loss: 0.0016 - accuracy: 1.0000 - val_loss: 0.0564 - val_accuracy: 0.9917\n",
      "Epoch 80/100\n",
      "34/34 [==============================] - 0s 5ms/step - loss: 0.0015 - accuracy: 1.0000 - val_loss: 0.0561 - val_accuracy: 0.9917\n",
      "Epoch 81/100\n",
      "34/34 [==============================] - 0s 6ms/step - loss: 0.0015 - accuracy: 1.0000 - val_loss: 0.0558 - val_accuracy: 0.9917\n",
      "Epoch 82/100\n",
      "34/34 [==============================] - 0s 6ms/step - loss: 0.0015 - accuracy: 1.0000 - val_loss: 0.0554 - val_accuracy: 0.9917\n",
      "Epoch 83/100\n",
      "34/34 [==============================] - 0s 7ms/step - loss: 0.0015 - accuracy: 1.0000 - val_loss: 0.0554 - val_accuracy: 0.9917\n",
      "Epoch 84/100\n",
      "34/34 [==============================] - 0s 6ms/step - loss: 0.0014 - accuracy: 1.0000 - val_loss: 0.0551 - val_accuracy: 0.9917\n",
      "Epoch 85/100\n",
      "34/34 [==============================] - 0s 6ms/step - loss: 0.0014 - accuracy: 1.0000 - val_loss: 0.0543 - val_accuracy: 0.9917\n",
      "Epoch 86/100\n",
      "34/34 [==============================] - 0s 5ms/step - loss: 0.0013 - accuracy: 1.0000 - val_loss: 0.0541 - val_accuracy: 0.9917\n",
      "Epoch 87/100\n",
      "34/34 [==============================] - 0s 5ms/step - loss: 0.0013 - accuracy: 1.0000 - val_loss: 0.0540 - val_accuracy: 0.9917\n",
      "Epoch 88/100\n",
      "34/34 [==============================] - 0s 5ms/step - loss: 0.0013 - accuracy: 1.0000 - val_loss: 0.0540 - val_accuracy: 0.9917\n",
      "Epoch 89/100\n",
      "34/34 [==============================] - 0s 6ms/step - loss: 0.0012 - accuracy: 1.0000 - val_loss: 0.0533 - val_accuracy: 0.9917\n",
      "Epoch 90/100\n",
      "34/34 [==============================] - 0s 5ms/step - loss: 0.0012 - accuracy: 1.0000 - val_loss: 0.0531 - val_accuracy: 0.9917\n",
      "Epoch 91/100\n",
      "34/34 [==============================] - 0s 6ms/step - loss: 0.0013 - accuracy: 1.0000 - val_loss: 0.0527 - val_accuracy: 0.9917\n",
      "Epoch 92/100\n",
      "34/34 [==============================] - 0s 6ms/step - loss: 0.0012 - accuracy: 1.0000 - val_loss: 0.0525 - val_accuracy: 0.9917\n",
      "Epoch 93/100\n",
      "34/34 [==============================] - 0s 6ms/step - loss: 0.0012 - accuracy: 1.0000 - val_loss: 0.0525 - val_accuracy: 0.9917\n",
      "Epoch 94/100\n",
      "34/34 [==============================] - 0s 7ms/step - loss: 0.0011 - accuracy: 1.0000 - val_loss: 0.0525 - val_accuracy: 0.9917\n",
      "Epoch 95/100\n",
      "34/34 [==============================] - 0s 6ms/step - loss: 0.0011 - accuracy: 1.0000 - val_loss: 0.0520 - val_accuracy: 0.9917\n",
      "Epoch 96/100\n",
      "34/34 [==============================] - 0s 6ms/step - loss: 0.0011 - accuracy: 1.0000 - val_loss: 0.0519 - val_accuracy: 0.9917\n",
      "Epoch 97/100\n",
      "34/34 [==============================] - 0s 6ms/step - loss: 0.0011 - accuracy: 1.0000 - val_loss: 0.0513 - val_accuracy: 0.9917\n",
      "Epoch 98/100\n",
      "34/34 [==============================] - 0s 6ms/step - loss: 0.0010 - accuracy: 1.0000 - val_loss: 0.0514 - val_accuracy: 0.9917\n",
      "Epoch 99/100\n",
      "34/34 [==============================] - 0s 7ms/step - loss: 0.0011 - accuracy: 1.0000 - val_loss: 0.0510 - val_accuracy: 0.9917\n",
      "Epoch 100/100\n",
      "34/34 [==============================] - 0s 6ms/step - loss: 0.0010 - accuracy: 1.0000 - val_loss: 0.0510 - val_accuracy: 0.9917\n"
     ]
    }
   ],
   "source": [
    "model_1_history = model_1.fit(np.array(train_sentences), \n",
    "                              train_labels_one_hot,\n",
    "                              epochs=100,\n",
    "                              validation_data=(np.array(test_sentences), test_labels_one_hot)) "
   ]
  },
  {
   "cell_type": "code",
   "execution_count": 100,
   "id": "10d89d1f",
   "metadata": {
    "scrolled": true
   },
   "outputs": [
    {
     "name": "stdout",
     "output_type": "stream",
     "text": [
      "4/4 [==============================] - 0s 10ms/step - loss: 0.0510 - accuracy: 0.9917\n"
     ]
    },
    {
     "data": {
      "text/plain": [
       "[0.05099913105368614, 0.9916666746139526]"
      ]
     },
     "execution_count": 100,
     "metadata": {},
     "output_type": "execute_result"
    }
   ],
   "source": [
    "model_1.evaluate(test_sentences, np.array(test_labels_one_hot))"
   ]
  },
  {
   "cell_type": "code",
   "execution_count": 101,
   "id": "66981e05",
   "metadata": {},
   "outputs": [
    {
     "data": {
      "text/plain": [
       "<Axes: >"
      ]
     },
     "execution_count": 101,
     "metadata": {},
     "output_type": "execute_result"
    },
    {
     "data": {
      "image/png": "[encoded data removed]",
      "text/plain": [
       "<Figure size 640x480 with 1 Axes>"
      ]
     },
     "metadata": {},
     "output_type": "display_data"
    }
   ],
   "source": [
    "pd.DataFrame(model_1_history.history).plot()"
   ]
  },
  {
   "cell_type": "markdown",
   "id": "d8d9f262",
   "metadata": {},
   "source": [
    "\n",
    "# Transfer learning (USE)"
   ]
  },
  {
   "cell_type": "markdown",
   "id": "6d2855b6",
   "metadata": {},
   "source": [
    "The main idea behind USE is to take advantage of the knowledge learned from large-scale text datasets, such as web pages, books, and Wikipedia. These pre-trained models have learned to represent and understand the semantics of sentences, making them valuable resources for a wide range of NLP tasks."
   ]
  },
  {
   "cell_type": "code",
   "execution_count": 102,
   "id": "60abe2df",
   "metadata": {},
   "outputs": [],
   "source": [
    "import tensorflow_hub as hub\n",
    "embed = hub.load(\"https://tfhub.dev/google/universal-sentence-encoder/4\")"
   ]
  },
  {
   "cell_type": "code",
   "execution_count": 103,
   "id": "5f04697f",
   "metadata": {},
   "outputs": [],
   "source": [
    "from tensorflow.keras import layers\n",
    "\n",
    "sentence_encoder_layer = hub.KerasLayer(\"https://tfhub.dev/google/universal-sentence-encoder/4\",\n",
    "                                        input_shape = [],\n",
    "                                        dtype=tf.string,\n",
    "                                        trainable = False,\n",
    "                                        name = \"USE\")\n",
    "\n",
    "model_2 = tf.keras.Sequential([\n",
    "    sentence_encoder_layer,\n",
    "    layers.Dense(512, activation=\"relu\"),\n",
    "    layers.Dense(128, activation=\"relu\"),\n",
    "    layers.Dense(num_of_classes, activation=\"softmax\")\n",
    "    ], name =\"USE_model\"\n",
    ")               "
   ]
  },
  {
   "cell_type": "code",
   "execution_count": null,
   "id": "3f8cd1cc",
   "metadata": {},
   "outputs": [],
   "source": []
  },
  {
   "cell_type": "code",
   "execution_count": 104,
   "id": "3cf48bea",
   "metadata": {},
   "outputs": [],
   "source": [
    "model_2.compile(loss=tf.keras.losses.CategoricalCrossentropy(),\n",
    "optimizer = tf.keras.optimizers.Adam(), metrics=[\"accuracy\"])"
   ]
  },
  {
   "cell_type": "code",
   "execution_count": 105,
   "id": "62edec39",
   "metadata": {},
   "outputs": [
    {
     "name": "stdout",
     "output_type": "stream",
     "text": [
      "Epoch 1/50\n",
      "34/34 [==============================] - 7s 43ms/step - loss: 2.6958 - accuracy: 0.4185 - val_loss: 1.9520 - val_accuracy: 0.5917\n",
      "Epoch 2/50\n",
      "34/34 [==============================] - 1s 22ms/step - loss: 1.1580 - accuracy: 0.7685 - val_loss: 0.7869 - val_accuracy: 0.8250\n",
      "Epoch 3/50\n",
      "34/34 [==============================] - 1s 24ms/step - loss: 0.4945 - accuracy: 0.8926 - val_loss: 0.4990 - val_accuracy: 0.8583\n",
      "Epoch 4/50\n",
      "34/34 [==============================] - 1s 21ms/step - loss: 0.2796 - accuracy: 0.9454 - val_loss: 0.3547 - val_accuracy: 0.9000\n",
      "Epoch 5/50\n",
      "34/34 [==============================] - 1s 21ms/step - loss: 0.1608 - accuracy: 0.9796 - val_loss: 0.1963 - val_accuracy: 0.9667\n",
      "Epoch 6/50\n",
      "34/34 [==============================] - 1s 21ms/step - loss: 0.1080 - accuracy: 0.9917 - val_loss: 0.1957 - val_accuracy: 0.9500\n",
      "Epoch 7/50\n",
      "34/34 [==============================] - 1s 21ms/step - loss: 0.0748 - accuracy: 0.9972 - val_loss: 0.1473 - val_accuracy: 0.9583\n",
      "Epoch 8/50\n",
      "34/34 [==============================] - 1s 21ms/step - loss: 0.0565 - accuracy: 0.9981 - val_loss: 0.1247 - val_accuracy: 0.9667\n",
      "Epoch 9/50\n",
      "34/34 [==============================] - 1s 22ms/step - loss: 0.0427 - accuracy: 0.9991 - val_loss: 0.1081 - val_accuracy: 0.9750\n",
      "Epoch 10/50\n",
      "34/34 [==============================] - 1s 22ms/step - loss: 0.0326 - accuracy: 0.9981 - val_loss: 0.0997 - val_accuracy: 0.9750\n",
      "Epoch 11/50\n",
      "34/34 [==============================] - 1s 23ms/step - loss: 0.0254 - accuracy: 1.0000 - val_loss: 0.0980 - val_accuracy: 0.9667\n",
      "Epoch 12/50\n",
      "34/34 [==============================] - 1s 22ms/step - loss: 0.0202 - accuracy: 1.0000 - val_loss: 0.0917 - val_accuracy: 0.9667\n",
      "Epoch 13/50\n",
      "34/34 [==============================] - 1s 20ms/step - loss: 0.0173 - accuracy: 1.0000 - val_loss: 0.0800 - val_accuracy: 0.9750\n",
      "Epoch 14/50\n",
      "34/34 [==============================] - 1s 20ms/step - loss: 0.0142 - accuracy: 1.0000 - val_loss: 0.0787 - val_accuracy: 0.9667\n",
      "Epoch 15/50\n",
      "34/34 [==============================] - 1s 20ms/step - loss: 0.0111 - accuracy: 1.0000 - val_loss: 0.0728 - val_accuracy: 0.9667\n",
      "Epoch 16/50\n",
      "34/34 [==============================] - 1s 20ms/step - loss: 0.0097 - accuracy: 1.0000 - val_loss: 0.0701 - val_accuracy: 0.9667\n",
      "Epoch 17/50\n",
      "34/34 [==============================] - 1s 21ms/step - loss: 0.0086 - accuracy: 1.0000 - val_loss: 0.0686 - val_accuracy: 0.9667\n",
      "Epoch 18/50\n",
      "34/34 [==============================] - 1s 20ms/step - loss: 0.0073 - accuracy: 1.0000 - val_loss: 0.0687 - val_accuracy: 0.9750\n",
      "Epoch 19/50\n",
      "34/34 [==============================] - 1s 21ms/step - loss: 0.0066 - accuracy: 1.0000 - val_loss: 0.0683 - val_accuracy: 0.9667\n",
      "Epoch 20/50\n",
      "34/34 [==============================] - 1s 20ms/step - loss: 0.0058 - accuracy: 1.0000 - val_loss: 0.0670 - val_accuracy: 0.9750\n",
      "Epoch 21/50\n",
      "34/34 [==============================] - 1s 21ms/step - loss: 0.0052 - accuracy: 1.0000 - val_loss: 0.0648 - val_accuracy: 0.9750\n",
      "Epoch 22/50\n",
      "34/34 [==============================] - 1s 21ms/step - loss: 0.0047 - accuracy: 1.0000 - val_loss: 0.0626 - val_accuracy: 0.9750\n",
      "Epoch 23/50\n",
      "34/34 [==============================] - 1s 20ms/step - loss: 0.0043 - accuracy: 1.0000 - val_loss: 0.0625 - val_accuracy: 0.9750\n",
      "Epoch 24/50\n",
      "34/34 [==============================] - 1s 19ms/step - loss: 0.0038 - accuracy: 1.0000 - val_loss: 0.0627 - val_accuracy: 0.9750\n",
      "Epoch 25/50\n",
      "34/34 [==============================] - 1s 21ms/step - loss: 0.0035 - accuracy: 1.0000 - val_loss: 0.0620 - val_accuracy: 0.9750\n",
      "Epoch 26/50\n",
      "34/34 [==============================] - 1s 20ms/step - loss: 0.0033 - accuracy: 1.0000 - val_loss: 0.0596 - val_accuracy: 0.9750\n",
      "Epoch 27/50\n",
      "34/34 [==============================] - 1s 20ms/step - loss: 0.0029 - accuracy: 1.0000 - val_loss: 0.0593 - val_accuracy: 0.9750\n",
      "Epoch 28/50\n",
      "34/34 [==============================] - 1s 20ms/step - loss: 0.0028 - accuracy: 1.0000 - val_loss: 0.0595 - val_accuracy: 0.9750\n",
      "Epoch 29/50\n",
      "34/34 [==============================] - 1s 19ms/step - loss: 0.0025 - accuracy: 1.0000 - val_loss: 0.0595 - val_accuracy: 0.9750\n",
      "Epoch 30/50\n",
      "34/34 [==============================] - 1s 19ms/step - loss: 0.0023 - accuracy: 1.0000 - val_loss: 0.0621 - val_accuracy: 0.9750\n",
      "Epoch 31/50\n",
      "34/34 [==============================] - 1s 20ms/step - loss: 0.0022 - accuracy: 1.0000 - val_loss: 0.0578 - val_accuracy: 0.9750\n",
      "Epoch 32/50\n",
      "34/34 [==============================] - 1s 19ms/step - loss: 0.0020 - accuracy: 1.0000 - val_loss: 0.0585 - val_accuracy: 0.9750\n",
      "Epoch 33/50\n",
      "34/34 [==============================] - 1s 20ms/step - loss: 0.0019 - accuracy: 1.0000 - val_loss: 0.0599 - val_accuracy: 0.9750\n",
      "Epoch 34/50\n",
      "34/34 [==============================] - 1s 20ms/step - loss: 0.0018 - accuracy: 1.0000 - val_loss: 0.0582 - val_accuracy: 0.9750\n",
      "Epoch 35/50\n",
      "34/34 [==============================] - 1s 19ms/step - loss: 0.0016 - accuracy: 1.0000 - val_loss: 0.0577 - val_accuracy: 0.9750\n",
      "Epoch 36/50\n",
      "34/34 [==============================] - 1s 19ms/step - loss: 0.0015 - accuracy: 1.0000 - val_loss: 0.0564 - val_accuracy: 0.9750\n",
      "Epoch 37/50\n",
      "34/34 [==============================] - 1s 20ms/step - loss: 0.0015 - accuracy: 1.0000 - val_loss: 0.0577 - val_accuracy: 0.9750\n",
      "Epoch 38/50\n",
      "34/34 [==============================] - 1s 20ms/step - loss: 0.0013 - accuracy: 1.0000 - val_loss: 0.0573 - val_accuracy: 0.9750\n",
      "Epoch 39/50\n",
      "34/34 [==============================] - 1s 20ms/step - loss: 0.0013 - accuracy: 1.0000 - val_loss: 0.0562 - val_accuracy: 0.9750\n",
      "Epoch 40/50\n",
      "34/34 [==============================] - 1s 20ms/step - loss: 0.0012 - accuracy: 1.0000 - val_loss: 0.0564 - val_accuracy: 0.9750\n",
      "Epoch 41/50\n",
      "34/34 [==============================] - 1s 20ms/step - loss: 0.0011 - accuracy: 1.0000 - val_loss: 0.0564 - val_accuracy: 0.9750\n",
      "Epoch 42/50\n",
      "34/34 [==============================] - 1s 20ms/step - loss: 0.0011 - accuracy: 1.0000 - val_loss: 0.0569 - val_accuracy: 0.9750\n",
      "Epoch 43/50\n",
      "34/34 [==============================] - 1s 19ms/step - loss: 0.0010 - accuracy: 1.0000 - val_loss: 0.0559 - val_accuracy: 0.9750\n",
      "Epoch 44/50\n",
      "34/34 [==============================] - 1s 19ms/step - loss: 9.6684e-04 - accuracy: 1.0000 - val_loss: 0.0559 - val_accuracy: 0.9750\n",
      "Epoch 45/50\n",
      "34/34 [==============================] - 1s 19ms/step - loss: 9.3400e-04 - accuracy: 1.0000 - val_loss: 0.0576 - val_accuracy: 0.9750\n",
      "Epoch 46/50\n",
      "34/34 [==============================] - 1s 19ms/step - loss: 8.6227e-04 - accuracy: 1.0000 - val_loss: 0.0549 - val_accuracy: 0.9750\n",
      "Epoch 47/50\n",
      "34/34 [==============================] - 1s 17ms/step - loss: 8.3097e-04 - accuracy: 1.0000 - val_loss: 0.0568 - val_accuracy: 0.9750\n",
      "Epoch 48/50\n",
      "34/34 [==============================] - 1s 19ms/step - loss: 7.9814e-04 - accuracy: 1.0000 - val_loss: 0.0555 - val_accuracy: 0.9750\n",
      "Epoch 49/50\n",
      "34/34 [==============================] - 1s 18ms/step - loss: 7.5469e-04 - accuracy: 1.0000 - val_loss: 0.0563 - val_accuracy: 0.9750\n",
      "Epoch 50/50\n",
      "34/34 [==============================] - 1s 17ms/step - loss: 7.2444e-04 - accuracy: 1.0000 - val_loss: 0.0565 - val_accuracy: 0.9750\n"
     ]
    }
   ],
   "source": [
    "model_2_history = model_2.fit(np.array(train_sentences), \n",
    "                              train_labels_one_hot,\n",
    "                              epochs=50,\n",
    "                              validation_data=(np.array(test_sentences), test_labels_one_hot)) "
   ]
  },
  {
   "cell_type": "code",
   "execution_count": 106,
   "id": "60ade62e",
   "metadata": {},
   "outputs": [
    {
     "name": "stdout",
     "output_type": "stream",
     "text": [
      "4/4 [==============================] - 0s 10ms/step - loss: 0.0565 - accuracy: 0.9750\n"
     ]
    },
    {
     "data": {
      "text/plain": [
       "[0.05649207904934883, 0.9750000238418579]"
      ]
     },
     "execution_count": 106,
     "metadata": {},
     "output_type": "execute_result"
    }
   ],
   "source": [
    "model_2.evaluate(np.array(test_sentences), np.array(test_labels_one_hot))"
   ]
  },
  {
   "cell_type": "code",
   "execution_count": 107,
   "id": "93bf2358",
   "metadata": {},
   "outputs": [
    {
     "data": {
      "text/plain": [
       "<Axes: >"
      ]
     },
     "execution_count": 107,
     "metadata": {},
     "output_type": "execute_result"
    },
    {
     "data": {
      "image/png": "[encoded data removed]",
      "text/plain": [
       "<Figure size 640x480 with 1 Axes>"
      ]
     },
     "metadata": {},
     "output_type": "display_data"
    }
   ],
   "source": [
    "pd.DataFrame(model_2_history.history).plot()"
   ]
  },
  {
   "cell_type": "markdown",
   "id": "16cab327",
   "metadata": {},
   "source": [
    "# RESULT\n",
    "\n"
   ]
  },
  {
   "cell_type": "code",
   "execution_count": 108,
   "id": "acdae1f0",
   "metadata": {},
   "outputs": [
    {
     "name": "stdout",
     "output_type": "stream",
     "text": [
      "                     Model  Accuracy    Loss\n",
      "0              Naive Bayes     93.33     NaN\n",
      "1                   Conv1D     98.33  0.0925\n",
      "2  Transfer Learning (USE)     97.50  0.0679\n"
     ]
    }
   ],
   "source": [
    "results = {\n",
    "    'Model': ['Naive Bayes', 'Conv1D', 'Transfer Learning (USE)'],\n",
    "    'Accuracy': [93.33, 98.33, 97.50],\n",
    "    'Loss': [None, 0.0925, 0.0679]\n",
    "}\n",
    "\n",
    "df_results = pd.DataFrame(results)\n",
    "print(df_results)"
   ]
  },
  {
   "cell_type": "code",
   "execution_count": 109,
   "id": "7dcc791c",
   "metadata": {},
   "outputs": [
    {
     "data": {
      "image/png": "[encoded data removed]",
      "text/plain": [
       "<Figure size 800x600 with 1 Axes>"
      ]
     },
     "metadata": {},
     "output_type": "display_data"
    }
   ],
   "source": [
    "df_results = pd.DataFrame(results)\n",
    "\n",
    "# Plotting the histogram\n",
    "plt.figure(figsize=(8, 6))\n",
    "plt.bar(df_results['Model'], df_results['Accuracy'])\n",
    "plt.xlabel('Model')\n",
    "plt.ylabel('Accuracy')\n",
    "plt.title('Accuracy Comparison of Models')\n",
    "plt.ylim(0, 100)  # Set the y-axis limits to 0-100\n",
    "plt.show()"
   ]
  },
  {
   "cell_type": "markdown",
   "id": "0a107c9d",
   "metadata": {},
   "source": [
    "From these results, we can draw the following conclusions:\n",
    "\n",
    "# Conv1D \n",
    "Achieved the highest accuracy of 98.33%, outperforming the other two models. It also had a relatively low loss value of 0.0925.\n",
    "# Transfer Learning (USE) \n",
    "Performed slightly worse than Conv1D but still achieved a high accuracy of 97.50% with a loss value of 0.0679.\n",
    "# Naive Bayes \n",
    "had the lowest accuracy of 93.33%.\n",
    "\n",
    "Therefore, based on the evaluation results, Conv1D and Transfer Learning (USE) appear to be more effective models for the given task compared to Naive Bayes. Conv1D achieved the highest accuracy, while Transfer Learning (USE) also showed strong performance. However, it's important to consider other factors such as the complexity of implementation, computational requirements, and the specific requirements and constraints of your task before finalizing the choice of model."
   ]
  },
  {
   "cell_type": "code",
   "execution_count": null,
   "id": "8fe84fea",
   "metadata": {},
   "outputs": [],
   "source": []
  },
  {
   "cell_type": "markdown",
   "id": "51eb2e72",
   "metadata": {},
   "source": [
    "# Saving the model"
   ]
  },
  {
   "cell_type": "code",
   "execution_count": 110,
   "id": "719f0693",
   "metadata": {},
   "outputs": [
    {
     "name": "stdout",
     "output_type": "stream",
     "text": [
      "Requirement already satisfied: joblib in c:\\users\\user\\anaconda3\\lib\\site-packages (1.2.0)\n",
      "Note: you may need to restart the kernel to use updated packages.\n"
     ]
    }
   ],
   "source": [
    "pip install joblib"
   ]
  },
  {
   "cell_type": "code",
   "execution_count": 111,
   "id": "a371dfc7",
   "metadata": {},
   "outputs": [
    {
     "data": {
      "text/plain": [
       "['conv1d_model.joblib']"
      ]
     },
     "execution_count": 111,
     "metadata": {},
     "output_type": "execute_result"
    }
   ],
   "source": [
    "from joblib import dump\n",
    "\n",
    "# Assuming you have a trained Conv1D model object named \"conv1d_model\"\n",
    "conv1d_model = model_1\n",
    "\n",
    "# Save the Conv1D model to a file\n",
    "filename = 'conv1d_model.joblib'\n",
    "dump(conv1d_model, filename)\n"
   ]
  },
  {
   "cell_type": "code",
   "execution_count": 117,
   "id": "cecd97d2",
   "metadata": {},
   "outputs": [
    {
     "name": "stdout",
     "output_type": "stream",
     "text": [
      "38/38 [==============================] - 0s 3ms/step\n"
     ]
    }
   ],
   "source": [
    "from joblib import load\n",
    "\n",
    "# Load the Conv1D model from the file\n",
    "filename = 'conv1d_model.joblib'\n",
    "conv1d_model = load(filename)\n",
    "\n",
    "# Use the loaded Conv1D model for predictions\n",
    "predictions = conv1d_model.predict(X)\n"
   ]
  },
  {
   "cell_type": "code",
   "execution_count": null,
   "id": "a63b0b80",
   "metadata": {},
   "outputs": [],
   "source": []
  }
 ],
 "metadata": {
  "kernelspec": {
   "display_name": "Python 3 (ipykernel)",
   "language": "python",
   "name": "python3"
  },
  "language_info": {
   "codemirror_mode": {
    "name": "ipython",
    "version": 3
   },
   "file_extension": ".py",
   "mimetype": "text/x-python",
   "name": "python",
   "nbconvert_exporter": "python",
   "pygments_lexer": "ipython3",
   "version": "3.10.9"
  }
 },
 "nbformat": 4,
 "nbformat_minor": 5
}
